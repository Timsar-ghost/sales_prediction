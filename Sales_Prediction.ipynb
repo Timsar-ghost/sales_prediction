{
  "nbformat": 4,
  "nbformat_minor": 0,
  "metadata": {
    "colab": {
      "provenance": [],
      "authorship_tag": "ABX9TyMVRYqLdwwzrhImHb4PF3Bv",
      "include_colab_link": true
    },
    "kernelspec": {
      "name": "python3",
      "display_name": "Python 3"
    },
    "language_info": {
      "name": "python"
    }
  },
  "cells": [
    {
      "cell_type": "markdown",
      "metadata": {
        "id": "view-in-github",
        "colab_type": "text"
      },
      "source": [
        "<a href=\"https://colab.research.google.com/github/Timsar-ghost/sales_prediction/blob/main/Sales_Prediction.ipynb\" target=\"_parent\"><img src=\"https://colab.research.google.com/assets/colab-badge.svg\" alt=\"Open In Colab\"/></a>"
      ]
    },
    {
      "cell_type": "markdown",
      "source": [
        "# Sales prediction \n",
        "# Ali Dehghani"
      ],
      "metadata": {
        "id": "ZnhpfGlscvuY"
      }
    },
    {
      "cell_type": "markdown",
      "source": [
        "## Loading data"
      ],
      "metadata": {
        "id": "2sW0CYehczEJ"
      }
    },
    {
      "cell_type": "markdown",
      "source": [
        "## Data Cleaning"
      ],
      "metadata": {
        "id": "XGG04DA0cyvW"
      }
    },
    {
      "cell_type": "markdown",
      "source": [
        "## Exploratory visuals"
      ],
      "metadata": {
        "id": "zNWZOuJtcySP"
      }
    },
    {
      "cell_type": "markdown",
      "source": [
        "## Explanatory visuals"
      ],
      "metadata": {
        "id": "ujzQ2iUEcx-x"
      }
    },
    {
      "cell_type": "markdown",
      "source": [
        "1"
      ],
      "metadata": {
        "id": "LX76Ph23cwdw"
      }
    },
    {
      "cell_type": "code",
      "execution_count": null,
      "metadata": {
        "id": "xDA2nFvWctsF"
      },
      "outputs": [],
      "source": [
        "##"
      ]
    }
  ]
}